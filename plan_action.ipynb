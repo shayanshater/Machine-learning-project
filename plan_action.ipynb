{
 "cells": [
  {
   "cell_type": "code",
   "execution_count": 32,
   "metadata": {},
   "outputs": [
    {
     "name": "stdout",
     "output_type": "stream",
     "text": [
      "[[0.00966449]\n",
      " [0.00786506]\n",
      " [0.99358898]\n",
      " [0.99211957]]\n"
     ]
    }
   ],
   "source": [
    "\n",
    "import numpy as np\n",
    "\n",
    "def sigmoid(x,deriv=False):\n",
    "    if deriv==True:\n",
    "        return x*(1-x)\n",
    "    else:\n",
    "        return 1/(1+np.exp(-x))\n",
    "    \n",
    "    \n",
    "inp = np.array([\n",
    "    [0,0,1],\n",
    "    [0,1,1],\n",
    "    [1,0,1],\n",
    "    [1,1,1]\n",
    "])\n",
    "\n",
    "oup = np.array([[0,0,1,1]]).T\n",
    "\n",
    "\n",
    "np.random.seed(1)\n",
    "w = 2*np.random.random((3,1)) -1\n",
    "\n",
    "for i in range(10000):\n",
    "    l0=inp\n",
    "    l1=sigmoid(np.dot(l0,w))\n",
    "    \n",
    "    l1_error = oup - l1\n",
    "    l1_confidence = l1_error * sigmoid(l1,deriv=True)\n",
    "    \n",
    "    w += np.dot(l0.T,l1_confidence)\n",
    "    \n",
    "print(l1)"
   ]
  },
  {
   "cell_type": "code",
   "execution_count": null,
   "metadata": {},
   "outputs": [],
   "source": [
    "#hidden layer example\n",
    "\n"
   ]
  }
 ],
 "metadata": {
  "kernelspec": {
   "display_name": ".venv",
   "language": "python",
   "name": "python3"
  },
  "language_info": {
   "codemirror_mode": {
    "name": "ipython",
    "version": 3
   },
   "file_extension": ".py",
   "mimetype": "text/x-python",
   "name": "python",
   "nbconvert_exporter": "python",
   "pygments_lexer": "ipython3",
   "version": "3.12.6"
  }
 },
 "nbformat": 4,
 "nbformat_minor": 2
}
