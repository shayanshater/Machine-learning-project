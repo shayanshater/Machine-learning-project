{
 "cells": [
  {
   "cell_type": "code",
   "execution_count": 43,
   "metadata": {},
   "outputs": [
    {
     "name": "stdout",
     "output_type": "stream",
     "text": [
      "[[0.00966449]\n",
      " [0.00786506]\n",
      " [0.99358898]\n",
      " [0.99211957]]\n"
     ]
    }
   ],
   "source": [
    "import numpy as np\n",
    "\n",
    "def sigmoid(x,deriv=False):\n",
    "    if deriv==True:\n",
    "        return x*(1-x)\n",
    "    else:\n",
    "        return 1/(1+np.exp(-x))\n",
    "    \n",
    "    \n",
    "inp = np.array([\n",
    "    [0,0,1],\n",
    "    [0,1,1],\n",
    "    [1,0,1],\n",
    "    [1,1,1]\n",
    "])\n",
    "\n",
    "oup = np.array([[0,0,1,1]]).T\n",
    "\n",
    "\n",
    "np.random.seed(1)\n",
    "w = 2*np.random.random((3,1)) -1\n",
    "\n",
    "for i in range(10000):\n",
    "    l0=inp\n",
    "    l1=sigmoid(np.dot(l0,w))\n",
    "    \n",
    "    l1_error = oup - l1\n",
    "    l1_confidence = l1_error * sigmoid(l1,deriv=True)\n",
    "    \n",
    "    w += np.dot(l0.T,l1_confidence)\n",
    "    \n",
    "print(l1)"
   ]
  },
  {
   "cell_type": "code",
   "execution_count": 56,
   "metadata": {},
   "outputs": [
    {
     "name": "stdout",
     "output_type": "stream",
     "text": [
      "Error: 0.4964100319027255\n",
      "Error: 0.008584525653247157\n",
      "Error: 0.005789459862507806\n",
      "Error: 0.004629176776769983\n",
      "Error: 0.003958765280273646\n",
      "Error: 0.0035101225678616736\n",
      "[[0.00260572]\n",
      " [0.99672209]\n",
      " [0.99701711]\n",
      " [0.00386759]]\n"
     ]
    }
   ],
   "source": [
    "#hidden layer example\n",
    "\n",
    "import numpy as np\n",
    "\n",
    "def sigmoid(x,deriv=False):\n",
    "    if deriv==True:\n",
    "        return x*(1-x)\n",
    "    else:\n",
    "        return 1/(1+np.exp(-x))\n",
    "    \n",
    "    \n",
    "    \n",
    "inp = np.array([\n",
    "    [0,0,1],\n",
    "    [0,1,1],\n",
    "    [1,0,1],\n",
    "    [1,1,1]\n",
    "])\n",
    "\n",
    "oup = np.array([[0,1,1,0]]).T\n",
    "    \n",
    "    \n",
    "np.random.seed(1)\n",
    "w0 = 2*np.random.random((3,4)) - 1\n",
    "w1 = 2*np.random.random((4,1)) - 1\n",
    "\n",
    "for i in range(60000):\n",
    "    \n",
    "    l0=inp\n",
    "    l1 = sigmoid(np.dot(l0,w0))\n",
    "    l2 = sigmoid(np.dot(l1,w1))\n",
    "    \n",
    "    l2_error = oup - l2 \n",
    "    \n",
    "    \n",
    "    \n",
    "    \n",
    "    if  (i%10000) == 0:\n",
    "        print('Error: ' + str(np.mean(np.abs(l2_error))))\n",
    "    l2_confidence = l2_error * sigmoid(l2,deriv=True)    \n",
    "     \n",
    "    l1_error= np.dot(l2_confidence,w1.T)\n",
    "    \n",
    "    l1_confidence = l1_error * sigmoid(l1, deriv=True)\n",
    "    w1 += l1.T.dot(l2_confidence)\n",
    "    w0 += l0.T.dot(l1_confidence)\n",
    "    \n",
    "    \n",
    "print(l2)"
   ]
  },
  {
   "cell_type": "code",
   "execution_count": null,
   "metadata": {},
   "outputs": [],
   "source": []
  }
 ],
 "metadata": {
  "kernelspec": {
   "display_name": ".venv",
   "language": "python",
   "name": "python3"
  },
  "language_info": {
   "codemirror_mode": {
    "name": "ipython",
    "version": 3
   },
   "file_extension": ".py",
   "mimetype": "text/x-python",
   "name": "python",
   "nbconvert_exporter": "python",
   "pygments_lexer": "ipython3",
   "version": "3.12.6"
  }
 },
 "nbformat": 4,
 "nbformat_minor": 2
}
